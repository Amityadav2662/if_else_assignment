{
 "cells": [
  {
   "cell_type": "code",
   "execution_count": 6,
   "id": "b2b21106-e102-48bb-aa35-17b74aa814a3",
   "metadata": {},
   "outputs": [
    {
     "name": "stdin",
     "output_type": "stream",
     "text": [
      "Enter the marks :  92\n"
     ]
    },
    {
     "name": "stdout",
     "output_type": "stream",
     "text": [
      "Your grade will be A\n"
     ]
    }
   ],
   "source": [
    "##### Problem 1 #####\n",
    "\n",
    "per = int(input(\"Enter the marks : \"))\n",
    "\n",
    "if(per > 90):\n",
    "    print(\"Your grade will be A\")\n",
    "elif(per > 80 and per <= 90):\n",
    "    print(\"Your grade will be B\")\n",
    "elif(per >= 60 and per <= 80):\n",
    "    print(\"Your grade will be C\")\n",
    "else:\n",
    "    print(\"Your grade will be D\")"
   ]
  },
  {
   "cell_type": "code",
   "execution_count": 8,
   "id": "03eacceb-2fab-41ee-86b5-acf23233395b",
   "metadata": {},
   "outputs": [
    {
     "name": "stdin",
     "output_type": "stream",
     "text": [
      "Enter the cost price of bike :  150000\n"
     ]
    },
    {
     "name": "stdout",
     "output_type": "stream",
     "text": [
      "The road tax to be paid : 22500.0\n"
     ]
    }
   ],
   "source": [
    "##### Problem 2 #####\n",
    "\n",
    "cost_price = int(input(\"Enter the cost price of bike : \"))\n",
    "a, b, c = 15, 10, 5\n",
    "if(cost_price > 100000):\n",
    "    print(\"The road tax to be paid :\", a/100*cost_price)\n",
    "elif(cost_price > 50000 and cost_price <= 100000):\n",
    "    print(\"The road tax to be paid :\", b/100*cost_price)\n",
    "elif(cost_price <= 50000):\n",
    "    print(\"The road tax to be paid :\", c/100*cost_price)"
   ]
  },
  {
   "cell_type": "code",
   "execution_count": 9,
   "id": "56002108-a294-4562-b801-23cfe94425e8",
   "metadata": {},
   "outputs": [
    {
     "name": "stdin",
     "output_type": "stream",
     "text": [
      "Enter the city name :  Jaipur\n"
     ]
    },
    {
     "name": "stdout",
     "output_type": "stream",
     "text": [
      "The monument of this city is : Jal Mahal\n"
     ]
    }
   ],
   "source": [
    "##### Problem 3 #####\n",
    "\n",
    "city = input(\"Enter the city name : \")\n",
    "\n",
    "monu_1 = \"Red Fort\"\n",
    "monu_2 = \"Taj Mahal\"\n",
    "monu_3 = \"Jal Mahal\"\n",
    "\n",
    "if(city == \"Delhi\"):\n",
    "    print(\"The monument of this city is :\",monu_1)\n",
    "elif(city == \"Agra\"):\n",
    "    print(\"The monument of this city is :\",monu_2)\n",
    "elif(city == \"Jaipur\"):\n",
    "    print(\"The monument of this city is :\",monu_3)\n",
    "else:\n",
    "    print(\"The monument of this city is invalid\")"
   ]
  },
  {
   "cell_type": "code",
   "execution_count": 5,
   "id": "a7e53de4-65c5-4b72-85c2-43a716605751",
   "metadata": {},
   "outputs": [
    {
     "name": "stdin",
     "output_type": "stream",
     "text": [
      "Enter the number : 10\n"
     ]
    },
    {
     "name": "stdout",
     "output_type": "stream",
     "text": [
      "1\n"
     ]
    }
   ],
   "source": [
    "##### Problem 4 #####\n",
    "\n",
    "number = int(input(\"Enter the number :\"))\n",
    "count = 0\n",
    "while number >= 10:\n",
    "    number = number / 3\n",
    "    count += 1\n",
    "    print(count)"
   ]
  },
  {
   "cell_type": "code",
   "execution_count": 7,
   "id": "20f4c75a-1791-46dc-931f-45f0b53fa31d",
   "metadata": {},
   "outputs": [
    {
     "name": "stdout",
     "output_type": "stream",
     "text": [
      "Welcome to data world\n",
      "Welcome to data world\n",
      "Welcome to data world\n"
     ]
    }
   ],
   "source": [
    "##### Problem 5 #####\n",
    "\n",
    "\"\"\"A while loop is a programming concept that, when it's implemented, executes a piece of code over and over again while a given condition still holds\n",
    "true.\"\"\"\n",
    "\n",
    "number = 2\n",
    "\n",
    "while number < 5:\n",
    "    print(\"Welcome to data world\")\n",
    "    number += 1"
   ]
  },
  {
   "cell_type": "markdown",
   "id": "230abc82-bf7c-4e1a-ab86-1d4f078d0b7a",
   "metadata": {},
   "source": [
    "In the above example I want to print the Welcome to data world three times so i used the while for it still code over and over whenever the condition \n",
    "is false"
   ]
  },
  {
   "cell_type": "code",
   "execution_count": 3,
   "id": "defbde4c-2d81-4b9e-89bb-fe2355cc6f08",
   "metadata": {},
   "outputs": [
    {
     "name": "stdin",
     "output_type": "stream",
     "text": [
      "Enter the number : 6\n"
     ]
    },
    {
     "name": "stdout",
     "output_type": "stream",
     "text": [
      "* \n",
      "* * \n",
      "* * * \n",
      "* * * * \n",
      "* * * * * \n",
      "* * * * * * \n"
     ]
    }
   ],
   "source": [
    "##### Problem 6 #####\n",
    "\n",
    "#star_pattern1\n",
    "\n",
    "num = int(input(\"Enter the number :\"))\n",
    "i = 1\n",
    "\n",
    "while i <= num:\n",
    "    j = 1\n",
    "    while j <= i:\n",
    "        print(\"*\", end = \" \")\n",
    "        j += 1\n",
    "    print('')\n",
    "    i += 1\n"
   ]
  },
  {
   "cell_type": "code",
   "execution_count": 2,
   "id": "180d04db-0deb-44cd-857b-d72df69557a4",
   "metadata": {},
   "outputs": [
    {
     "name": "stdin",
     "output_type": "stream",
     "text": [
      "Enter the number : 6\n"
     ]
    },
    {
     "name": "stdout",
     "output_type": "stream",
     "text": [
      "* * * * * * \n",
      "* * * * * \n",
      "* * * * \n",
      "* * * \n",
      "* * \n",
      "* \n"
     ]
    }
   ],
   "source": [
    "#star_pattern2\n",
    "\n",
    "num = int(input(\"Enter the number :\"))\n",
    "i = 1\n",
    "\n",
    "while i <= num:\n",
    "    j = num\n",
    "    while j >= i:\n",
    "        print(\"*\", end = \" \")\n",
    "        j -= 1\n",
    "    print('')\n",
    "    i += 1"
   ]
  },
  {
   "cell_type": "code",
   "execution_count": 4,
   "id": "130cb292-043b-4175-a9b5-a27913907cb7",
   "metadata": {},
   "outputs": [
    {
     "name": "stdin",
     "output_type": "stream",
     "text": [
      "Please Enter any Side of a Square  :  6\n"
     ]
    },
    {
     "name": "stdout",
     "output_type": "stream",
     "text": [
      "*  *  *  *  *  *  \n",
      "*  *  *  *  *  *  \n",
      "*  *  *  *  *  *  \n",
      "*  *  *  *  *  *  \n",
      "*  *  *  *  *  *  \n",
      "*  *  *  *  *  *  \n"
     ]
    }
   ],
   "source": [
    "#star_pattern3\n",
    "\n",
    " \n",
    "sq = int(input(\"Please Enter any Side of a Square  : \"))\n",
    "i = 0\n",
    "\n",
    "while(i < sq):\n",
    "    j = 0\n",
    "    while(j < sq):      \n",
    "        j = j + 1\n",
    "        print('*', end = '  ')\n",
    "    i = i + 1\n",
    "    print()"
   ]
  },
  {
   "cell_type": "code",
   "execution_count": 5,
   "id": "1b190d85-2b05-418c-a825-06d2849bb9b9",
   "metadata": {},
   "outputs": [
    {
     "name": "stdin",
     "output_type": "stream",
     "text": [
      "Enter the reverseal word : amit\n"
     ]
    },
    {
     "name": "stdout",
     "output_type": "stream",
     "text": [
      "tima\n"
     ]
    }
   ],
   "source": [
    "##### Problem 7 #####\n",
    "\n",
    "word = input(\"Enter the reverseal word :\")\n",
    "reverse = \"\"\n",
    "length = len(word)\n",
    "\n",
    "while length > 0:\n",
    "    reverse = reverse + word[length -1]\n",
    "    length = length -1\n",
    "print(reverse)"
   ]
  },
  {
   "cell_type": "code",
   "execution_count": null,
   "id": "647320e7-5c4c-4161-b3f5-bba12aac9d0e",
   "metadata": {},
   "outputs": [],
   "source": []
  }
 ],
 "metadata": {
  "kernelspec": {
   "display_name": "Python 3 (ipykernel)",
   "language": "python",
   "name": "python3"
  },
  "language_info": {
   "codemirror_mode": {
    "name": "ipython",
    "version": 3
   },
   "file_extension": ".py",
   "mimetype": "text/x-python",
   "name": "python",
   "nbconvert_exporter": "python",
   "pygments_lexer": "ipython3",
   "version": "3.10.8"
  }
 },
 "nbformat": 4,
 "nbformat_minor": 5
}
